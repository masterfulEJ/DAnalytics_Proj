{
 "cells": [
  {
   "cell_type": "code",
   "execution_count": null,
   "id": "96fe7fcf",
   "metadata": {},
   "outputs": [],
   "source": [
    "%matplotlib inline"
   ]
  },
  {
   "cell_type": "code",
   "execution_count": null,
   "id": "4f35401f-6cbe-41fe-b1d3-ba4d0aa41c37",
   "metadata": {},
   "outputs": [],
   "source": [
    "import os, re\n",
    "import numpy as np\n",
    "import pandas as pd"
   ]
  },
  {
   "cell_type": "code",
   "execution_count": null,
   "id": "75ce4f79-c7d5-40d0-a5fc-2beeb490491f",
   "metadata": {},
   "outputs": [],
   "source": [
    "import matplotlib.pyplot as plt\n",
    "import matplotlib.font_manager as fm\n",
    "\n",
    "def set_plot_params(fontsize=12, font='NanumGothic'):\n",
    "    home = os.path.expanduser('~')\n",
    "    font_path = os.path.join(\n",
    "        home, 'AppData/Local/Microsoft/Windows/Fonts'.replace('/', '\\\\'))\n",
    "    font_files = fm.findSystemFonts(fontpaths=font_path)\n",
    "    if hasattr(fm.fontManager, 'addfont'):\n",
    "        for path in font_files:\n",
    "            fm.fontManager.addfont(path=path)\n",
    "    else:\n",
    "        font_list = fm.creatFontList(font_files)\n",
    "        fm.fontManager.ttflist.extend(font_list)\n",
    "    plt.rcParams[\"font.family\"] = font\n",
    "    plt.rcParams[\"font.size\"] = fontsize\n",
    "    plt.rcParams[\"axes.unicode_minus\"] = False\n",
    "\n",
    "set_plot_params()"
   ]
  },
  {
   "cell_type": "markdown",
   "id": "83027319",
   "metadata": {},
   "source": [
    "# 탐색"
   ]
  },
  {
   "cell_type": "code",
   "execution_count": null,
   "id": "e9583cf7",
   "metadata": {},
   "outputs": [],
   "source": [
    "data = pd.read_csv('data.csv')\n",
    "data.to_pickle('data.p')"
   ]
  },
  {
   "cell_type": "code",
   "execution_count": null,
   "id": "e600e35c",
   "metadata": {},
   "outputs": [],
   "source": [
    "# data['TBL'].unique()\n",
    "# data['ITM_NM'].unique()\n",
    "# data.groupby('ITM_NM')['UNIT_NM'].unique()\n",
    "# data.groupby(['C1_NM', 'PRD_DE', 'TBL'])['ITM_NM'].count()\n",
    "\n",
    "\n",
    "\n",
    "# x = data.pivot_table(index='C1_NM', columns='PRD_DE', values='DT',aggfunc=sum)\n",
    "# x.to_clipboard()\n",
    "\n",
    "\n",
    "\n",
    "# data.loc[data['C1_NM'].str.match('강력범죄')]\n",
    "\n",
    "# loc = data['TBL'] == '서울지방검찰청'\n",
    "# loc &= data['C1_NM'].str.match('강력범죄')\n",
    "# loc &= data['PRD_DE'] == 2005\n",
    "\n",
    "# data.loc[loc].sort_values(['C1_NM', 'ITM_NM']).reset_index(drop=True).to_clipboard()\n",
    "# data.groupby(['PRD_DE', 'TBL'])['C2_NM'].apply(lambda x: len(x.unique()))\n",
    "# data.groupby(['PRD_DE', 'TBL', 'C2_NM'])['C2_OBJ_NM'].apply(lambda x: len(x.unique())).to_clipboard()\n",
    "# data.loc[data['PRD_DE'] == 2002]"
   ]
  },
  {
   "cell_type": "code",
   "execution_count": null,
   "id": "4d048525",
   "metadata": {},
   "outputs": [],
   "source": []
  },
  {
   "cell_type": "markdown",
   "id": "ed82bef0",
   "metadata": {},
   "source": [
    "# Refining: 구간별 데이터 형태 변환 통일"
   ]
  },
  {
   "cell_type": "code",
   "execution_count": null,
   "id": "21d80bbf",
   "metadata": {},
   "outputs": [],
   "source": [
    "data_pre = pd.read_pickle('data.p')\n",
    "loc = data_pre['TBL'].eq('합계')\n",
    "data_pre = data_pre.loc[~loc].copy()"
   ]
  },
  {
   "cell_type": "code",
   "execution_count": null,
   "id": "07c6ef28",
   "metadata": {},
   "outputs": [],
   "source": [
    "loc = data_pre['C1_NM'].str.match('총계')\n",
    "data = data_pre.loc[~loc]"
   ]
  },
  {
   "cell_type": "markdown",
   "id": "caa64ebf",
   "metadata": {},
   "source": [
    "- `%`단위 데이터 빼기"
   ]
  },
  {
   "cell_type": "code",
   "execution_count": null,
   "id": "f9d42f9c",
   "metadata": {},
   "outputs": [],
   "source": [
    "data_pct = data.loc[data['UNIT_NM'].eq('%')]\n",
    "data1 = data.loc[~data['UNIT_NM'].eq('%')]"
   ]
  },
  {
   "cell_type": "markdown",
   "id": "8ab133d2",
   "metadata": {},
   "source": [
    "### C2 항목 필요할까? NO 그치만 뭔가 수상하다"
   ]
  },
  {
   "cell_type": "code",
   "execution_count": null,
   "id": "f19e0b12",
   "metadata": {},
   "outputs": [],
   "source": [
    "data['C2_NM'].unique()"
   ]
  },
  {
   "cell_type": "code",
   "execution_count": null,
   "id": "4eb4466e",
   "metadata": {},
   "outputs": [],
   "source": [
    "data['C2_OBJ_NM'].unique()"
   ]
  },
  {
   "cell_type": "code",
   "execution_count": null,
   "id": "af5b82fe",
   "metadata": {},
   "outputs": [],
   "source": [
    "loc = data['TBL'] == '서울지방검찰청'\n",
    "loc &= data['PRD_DE'] == 2021\n",
    "loc &= data['ITM_NM'] == '발생건수'\n",
    "loc &= data['C1_NM'] == '형법범'"
   ]
  },
  {
   "cell_type": "code",
   "execution_count": null,
   "id": "51d3401d",
   "metadata": {},
   "outputs": [],
   "source": [
    "data.loc[loc]"
   ]
  },
  {
   "cell_type": "markdown",
   "id": "061434aa",
   "metadata": {},
   "source": [
    "### 1992년 이전 데이터 C1항목 합치기"
   ]
  },
  {
   "cell_type": "code",
   "execution_count": null,
   "id": "1f41096b",
   "metadata": {},
   "outputs": [],
   "source": [
    "data1_pre1992 = data1.loc[data1['PRD_DE'] <= 1992]"
   ]
  },
  {
   "cell_type": "code",
   "execution_count": null,
   "id": "5e41d53b",
   "metadata": {},
   "outputs": [],
   "source": [
    "data2_pre1992 = data1_pre1992.groupby(['TBL', 'ITM_NM', 'UNIT_NM', 'C1_NM', 'PRD_DE'])['DT'].sum().reset_index()"
   ]
  },
  {
   "cell_type": "markdown",
   "id": "d7ee017f",
   "metadata": {},
   "source": [
    "### 1993~2001년 데이터 C1항목 합치기"
   ]
  },
  {
   "cell_type": "code",
   "execution_count": null,
   "id": "7ee9353b",
   "metadata": {},
   "outputs": [],
   "source": [
    "loc = (data1['PRD_DE'] > 1992) & (data1['PRD_DE'] <= 2001)\n",
    "data1_mid = data1.loc[loc].copy()"
   ]
  },
  {
   "cell_type": "code",
   "execution_count": null,
   "id": "2bd5f2fa",
   "metadata": {},
   "outputs": [],
   "source": [
    "data2_mid = data1_mid.groupby(['TBL', 'ITM_NM', 'UNIT_NM', 'C1_NM', 'PRD_DE'])['DT'].sum().reset_index()"
   ]
  },
  {
   "cell_type": "markdown",
   "id": "c186ff5e",
   "metadata": {},
   "source": [
    "### 2002년 이후 데이터 C1항목 합치기"
   ]
  },
  {
   "cell_type": "code",
   "execution_count": null,
   "id": "33ca36ab",
   "metadata": {},
   "outputs": [],
   "source": [
    "loc = data1['PRD_DE'] > 2001\n",
    "data1_post2002 = data1.loc[loc].copy()"
   ]
  },
  {
   "cell_type": "code",
   "execution_count": null,
   "id": "8330df35",
   "metadata": {},
   "outputs": [],
   "source": [
    "data2_post2002 = data1_post2002.groupby(['TBL', 'ITM_NM', 'UNIT_NM', 'C1_NM', 'PRD_DE'])['DT'].sum().reset_index()"
   ]
  },
  {
   "cell_type": "code",
   "execution_count": null,
   "id": "4e3bc518",
   "metadata": {},
   "outputs": [],
   "source": []
  },
  {
   "cell_type": "code",
   "execution_count": null,
   "id": "0c29df97",
   "metadata": {},
   "outputs": [],
   "source": [
    "# data2_post2002.loc[\n",
    "#     data2_post2002['TBL'].eq('합계') & \\\n",
    "#     data2_post2002['C1_NM'].eq('횡령') & \\\n",
    "#     data2_post2002['ITM_NM'].eq('검거건수')].set_index('PRD_DE')['DT']"
   ]
  },
  {
   "cell_type": "code",
   "execution_count": null,
   "id": "7dbe7c7f",
   "metadata": {},
   "outputs": [],
   "source": []
  },
  {
   "cell_type": "code",
   "execution_count": null,
   "id": "31618657",
   "metadata": {},
   "outputs": [],
   "source": [
    "data2 = pd.concat([data2_pre1992, data2_mid, data2_post2002], axis=0).reset_index(drop=True)\n",
    "# data2.to_csv('건수로만_C2항목제거_data.csv', index=False)\n",
    "data2.to_pickle('data2.p')"
   ]
  },
  {
   "cell_type": "code",
   "execution_count": null,
   "id": "6561c956",
   "metadata": {},
   "outputs": [],
   "source": []
  },
  {
   "cell_type": "code",
   "execution_count": null,
   "id": "a3b14797",
   "metadata": {},
   "outputs": [],
   "source": [
    "# pd.read_csv('건수로만_C2항목제거_data.csv')"
   ]
  },
  {
   "cell_type": "code",
   "execution_count": null,
   "id": "454578f6",
   "metadata": {},
   "outputs": [],
   "source": [
    "# data2_pivot = data2.pivot_table(index='C1_NM', columns='PRD_DE', values='DT', aggfunc=sum)"
   ]
  },
  {
   "cell_type": "code",
   "execution_count": null,
   "id": "c61c77b8",
   "metadata": {},
   "outputs": [],
   "source": [
    "# data2_pivot.to_clipboard()"
   ]
  },
  {
   "cell_type": "code",
   "execution_count": null,
   "id": "ba33a407",
   "metadata": {},
   "outputs": [],
   "source": []
  },
  {
   "cell_type": "markdown",
   "id": "18112554",
   "metadata": {},
   "source": [
    "# Refining 2 : 중복 명칭 합치기"
   ]
  },
  {
   "cell_type": "code",
   "execution_count": null,
   "id": "47d044d4",
   "metadata": {},
   "outputs": [],
   "source": [
    "data2 = pd.read_pickle('data2.p')"
   ]
  },
  {
   "cell_type": "markdown",
   "id": "d9e3e7fb",
   "metadata": {},
   "source": [
    "--------------------------------------------"
   ]
  },
  {
   "cell_type": "code",
   "execution_count": null,
   "id": "40fc77f0",
   "metadata": {},
   "outputs": [],
   "source": [
    "loc = data2['C1_NM'].str.match('.+음란')"
   ]
  },
  {
   "cell_type": "code",
   "execution_count": null,
   "id": "ed155cd6",
   "metadata": {},
   "outputs": [],
   "source": [
    "data2.loc[loc, 'C1_NM'].unique()"
   ]
  },
  {
   "cell_type": "code",
   "execution_count": null,
   "id": "6cb0a535",
   "metadata": {},
   "outputs": [],
   "source": [
    "data2.loc[loc, 'C1_NM'] = '기타 음란행위'"
   ]
  },
  {
   "cell_type": "markdown",
   "id": "e68a9163",
   "metadata": {},
   "source": [
    "--------------------------------------------"
   ]
  },
  {
   "cell_type": "code",
   "execution_count": null,
   "id": "9c7cdd87",
   "metadata": {},
   "outputs": [],
   "source": [
    "loc = data2['C1_NM'].str.match('.+노동관계')"
   ]
  },
  {
   "cell_type": "code",
   "execution_count": null,
   "id": "605fe61d",
   "metadata": {},
   "outputs": [],
   "source": [
    "data2.loc[loc, 'C1_NM'].unique()"
   ]
  },
  {
   "cell_type": "code",
   "execution_count": null,
   "id": "6c710401",
   "metadata": {},
   "outputs": [],
   "source": [
    "data2.loc[loc, 'C1_NM'] = '노동조합 및 노동관계 조정법'"
   ]
  },
  {
   "cell_type": "markdown",
   "id": "98627f86",
   "metadata": {},
   "source": [
    "--------------------------------------------"
   ]
  },
  {
   "cell_type": "code",
   "execution_count": null,
   "id": "22fef904",
   "metadata": {},
   "outputs": [],
   "source": [
    "loc = data2['C1_NM'].str.match('농수산물')"
   ]
  },
  {
   "cell_type": "code",
   "execution_count": null,
   "id": "0042abb7",
   "metadata": {},
   "outputs": [],
   "source": [
    "data2.loc[loc, 'C1_NM'].unique()"
   ]
  },
  {
   "cell_type": "code",
   "execution_count": null,
   "id": "7f91124a",
   "metadata": {},
   "outputs": [],
   "source": [
    "data2.loc[loc, 'C1_NM'] = '농수산물 관한법률'"
   ]
  },
  {
   "cell_type": "markdown",
   "id": "2a86fcea",
   "metadata": {},
   "source": [
    "--------------------------------------------"
   ]
  },
  {
   "cell_type": "code",
   "execution_count": null,
   "id": "4c2a6fd9",
   "metadata": {},
   "outputs": [],
   "source": [
    "loc = data2['C1_NM'].str.match('.?담배')"
   ]
  },
  {
   "cell_type": "code",
   "execution_count": null,
   "id": "75530280",
   "metadata": {},
   "outputs": [],
   "source": [
    "data2.loc[loc, 'C1_NM'].unique()"
   ]
  },
  {
   "cell_type": "code",
   "execution_count": null,
   "id": "65c56a70",
   "metadata": {},
   "outputs": [],
   "source": [
    "data2.loc[loc, 'C1_NM'] = '담배관련'"
   ]
  },
  {
   "cell_type": "markdown",
   "id": "2be455ce",
   "metadata": {},
   "source": [
    "--------------------------------------------"
   ]
  },
  {
   "cell_type": "code",
   "execution_count": null,
   "id": "ab1224e0",
   "metadata": {},
   "outputs": [],
   "source": [
    "loc = data2['C1_NM'].str.match('마약류관리에 관한.+\\(대마\\)')\n",
    "loc |= data2['C1_NM'].str.match('.?대마')"
   ]
  },
  {
   "cell_type": "code",
   "execution_count": null,
   "id": "441b3b80",
   "metadata": {},
   "outputs": [],
   "source": [
    "data2.loc[loc, 'C1_NM'].unique()"
   ]
  },
  {
   "cell_type": "code",
   "execution_count": null,
   "id": "4b521cfb",
   "metadata": {},
   "outputs": [],
   "source": [
    "data2.loc[loc, 'C1_NM'] = '마약류_대마'"
   ]
  },
  {
   "cell_type": "markdown",
   "id": "e5029fa3",
   "metadata": {},
   "source": [
    "--------------------------------------------"
   ]
  },
  {
   "cell_type": "code",
   "execution_count": null,
   "id": "7654635e",
   "metadata": {},
   "outputs": [],
   "source": [
    "loc = data2['C1_NM'].str.match('마약류관리에 관한.+\\(마약\\)')\n",
    "# loc |= data2['C1_NM'].str.match('.?대마')"
   ]
  },
  {
   "cell_type": "code",
   "execution_count": null,
   "id": "4e026e8b",
   "metadata": {},
   "outputs": [],
   "source": [
    "data2.loc[loc, 'C1_NM'].unique()"
   ]
  },
  {
   "cell_type": "code",
   "execution_count": null,
   "id": "4ff0c2e1",
   "metadata": {},
   "outputs": [],
   "source": [
    "data2.loc[loc, 'C1_NM'] = '마약류_마약'"
   ]
  },
  {
   "cell_type": "markdown",
   "id": "da024f6d",
   "metadata": {},
   "source": [
    "--------------------------------------------"
   ]
  },
  {
   "cell_type": "code",
   "execution_count": null,
   "id": "a98b37ca",
   "metadata": {},
   "outputs": [],
   "source": [
    "loc = data2['C1_NM'].str.match('마약류관리에 관한.+\\(향정')"
   ]
  },
  {
   "cell_type": "code",
   "execution_count": null,
   "id": "f4d739b2",
   "metadata": {},
   "outputs": [],
   "source": [
    "data2.loc[loc, 'C1_NM'].unique()"
   ]
  },
  {
   "cell_type": "code",
   "execution_count": null,
   "id": "1b2efbf4",
   "metadata": {},
   "outputs": [],
   "source": [
    "data2.loc[loc, 'C1_NM'] = '마약류_향정신'"
   ]
  },
  {
   "cell_type": "markdown",
   "id": "94245708",
   "metadata": {},
   "source": [
    "--------------------------------------------"
   ]
  },
  {
   "cell_type": "code",
   "execution_count": null,
   "id": "8006fe51",
   "metadata": {},
   "outputs": [],
   "source": [
    "loc = data2['C1_NM'].str.match('마약류관리에.+법률$')"
   ]
  },
  {
   "cell_type": "code",
   "execution_count": null,
   "id": "96034a9a",
   "metadata": {},
   "outputs": [],
   "source": [
    "data2.loc[loc, 'C1_NM'].unique()"
   ]
  },
  {
   "cell_type": "code",
   "execution_count": null,
   "id": "066f701b",
   "metadata": {},
   "outputs": [],
   "source": [
    "data2.loc[loc, 'C1_NM'] = '마약류_unknown'"
   ]
  },
  {
   "cell_type": "code",
   "execution_count": null,
   "id": "3e86c584",
   "metadata": {},
   "outputs": [],
   "source": [
    "loc = data2['C1_NM'].str.match('마약법')"
   ]
  },
  {
   "cell_type": "code",
   "execution_count": null,
   "id": "427244fe",
   "metadata": {},
   "outputs": [],
   "source": [
    "data2.loc[loc, 'C1_NM'].unique()"
   ]
  },
  {
   "cell_type": "code",
   "execution_count": null,
   "id": "0d1d6402",
   "metadata": {},
   "outputs": [],
   "source": [
    "data2.loc[loc, 'C1_NM'] = '마약류_unknown'"
   ]
  },
  {
   "cell_type": "markdown",
   "id": "11738934",
   "metadata": {},
   "source": [
    "--------------------------------------------"
   ]
  },
  {
   "cell_type": "code",
   "execution_count": null,
   "id": "7ae36304",
   "metadata": {},
   "outputs": [],
   "source": [
    "loc = data2['C1_NM'].str.match('물환경보전법')"
   ]
  },
  {
   "cell_type": "code",
   "execution_count": null,
   "id": "43d5276e",
   "metadata": {},
   "outputs": [],
   "source": [
    "data2.loc[loc, 'C1_NM'].unique()"
   ]
  },
  {
   "cell_type": "code",
   "execution_count": null,
   "id": "02b8e691",
   "metadata": {},
   "outputs": [],
   "source": [
    "data2.loc[loc, 'C1_NM'] = '물환경보전법'"
   ]
  },
  {
   "cell_type": "markdown",
   "id": "4b9471e3",
   "metadata": {},
   "source": [
    "--------------------------------------------"
   ]
  },
  {
   "cell_type": "code",
   "execution_count": null,
   "id": "44b57104",
   "metadata": {},
   "outputs": [],
   "source": [
    "loc = data2['C1_NM'].str.match('방화치')"
   ]
  },
  {
   "cell_type": "code",
   "execution_count": null,
   "id": "a95907ba",
   "metadata": {},
   "outputs": [],
   "source": [
    "data2.loc[loc, 'C1_NM'].unique()"
   ]
  },
  {
   "cell_type": "code",
   "execution_count": null,
   "id": "c37e28e3",
   "metadata": {},
   "outputs": [],
   "source": [
    "data2.loc[loc, 'C1_NM'] = '방화'"
   ]
  },
  {
   "cell_type": "markdown",
   "id": "06738cd6",
   "metadata": {},
   "source": [
    "--------------------------------------------"
   ]
  },
  {
   "cell_type": "code",
   "execution_count": null,
   "id": "3f61ab77",
   "metadata": {},
   "outputs": [],
   "source": [
    "loc = data2['C1_NM'].str.match('배임수재|배임증재')"
   ]
  },
  {
   "cell_type": "code",
   "execution_count": null,
   "id": "d60fda3e",
   "metadata": {},
   "outputs": [],
   "source": [
    "data2.loc[loc, 'C1_NM'].unique()"
   ]
  },
  {
   "cell_type": "code",
   "execution_count": null,
   "id": "fc0cb239",
   "metadata": {},
   "outputs": [],
   "source": [
    "data2.loc[loc, 'C1_NM'] = '배임'"
   ]
  },
  {
   "cell_type": "markdown",
   "id": "a0a092a2",
   "metadata": {},
   "source": [
    "--------------------------------------------"
   ]
  },
  {
   "cell_type": "code",
   "execution_count": null,
   "id": "d2d5a9bd",
   "metadata": {},
   "outputs": [],
   "source": [
    "loc = data2['C1_NM'].str.match('병역법')"
   ]
  },
  {
   "cell_type": "code",
   "execution_count": null,
   "id": "b2ff8fc8",
   "metadata": {},
   "outputs": [],
   "source": [
    "data2.loc[loc, 'C1_NM'].unique()"
   ]
  },
  {
   "cell_type": "code",
   "execution_count": null,
   "id": "382ff1dd",
   "metadata": {},
   "outputs": [],
   "source": [
    "data2.loc[loc, 'C1_NM'] = '병역법'"
   ]
  },
  {
   "cell_type": "markdown",
   "id": "a4f11817",
   "metadata": {},
   "source": [
    "--------------------------------------------"
   ]
  },
  {
   "cell_type": "code",
   "execution_count": null,
   "id": "caf8dfef",
   "metadata": {},
   "outputs": [],
   "source": [
    "loc = data2['C1_NM'].str.match('부동산 소유권 이전')"
   ]
  },
  {
   "cell_type": "code",
   "execution_count": null,
   "id": "ca96369c",
   "metadata": {},
   "outputs": [],
   "source": [
    "data2.loc[loc, 'C1_NM'].unique()"
   ]
  },
  {
   "cell_type": "code",
   "execution_count": null,
   "id": "e6b59962",
   "metadata": {},
   "outputs": [],
   "source": [
    "data2.loc[loc, 'C1_NM'] = '부동산 소유권 이전 등기등에 관한 법률'"
   ]
  },
  {
   "cell_type": "code",
   "execution_count": null,
   "id": "4b22a74b",
   "metadata": {},
   "outputs": [],
   "source": [
    "loc = data2['C1_NM'].str.match('부동산실권리자 명의등기에 관한법률')\n",
    "data2.loc[loc, 'C1_NM'].unique()"
   ]
  },
  {
   "cell_type": "code",
   "execution_count": null,
   "id": "c92975d3",
   "metadata": {},
   "outputs": [],
   "source": [
    "data2.loc[loc, 'C1_NM'] = '부동산 소유권 이전 등기등에 관한 법률'"
   ]
  },
  {
   "cell_type": "markdown",
   "id": "7ca92a3b",
   "metadata": {},
   "source": [
    "--------------------------------------------"
   ]
  },
  {
   "cell_type": "code",
   "execution_count": null,
   "id": "c356c3e4",
   "metadata": {},
   "outputs": [],
   "source": [
    "loc = data2['C1_NM'].str.match('부정경쟁방지')"
   ]
  },
  {
   "cell_type": "code",
   "execution_count": null,
   "id": "a2a3da5e",
   "metadata": {},
   "outputs": [],
   "source": [
    "data2.loc[loc, 'C1_NM'].unique()"
   ]
  },
  {
   "cell_type": "code",
   "execution_count": null,
   "id": "173b31ee",
   "metadata": {},
   "outputs": [],
   "source": [
    "data2.loc[loc, 'C1_NM'] = '부정경쟁방지법'"
   ]
  },
  {
   "cell_type": "markdown",
   "id": "27e38898",
   "metadata": {},
   "source": [
    "--------------------------------------------"
   ]
  },
  {
   "cell_type": "code",
   "execution_count": null,
   "id": "56a42f9c",
   "metadata": {},
   "outputs": [],
   "source": [
    "loc = data2['C1_NM'].str.match('산림자원의')"
   ]
  },
  {
   "cell_type": "code",
   "execution_count": null,
   "id": "f8fda785",
   "metadata": {},
   "outputs": [],
   "source": [
    "data2.loc[loc, 'C1_NM'].unique()"
   ]
  },
  {
   "cell_type": "code",
   "execution_count": null,
   "id": "3d1fc808",
   "metadata": {},
   "outputs": [],
   "source": [
    "data2.loc[loc, 'C1_NM'] = '산림자원의 조성 및 관리에 관한법률'"
   ]
  },
  {
   "cell_type": "markdown",
   "id": "25b87016",
   "metadata": {},
   "source": [
    "--------------------------------------------"
   ]
  },
  {
   "cell_type": "code",
   "execution_count": null,
   "id": "b81cd41f",
   "metadata": {},
   "outputs": [],
   "source": [
    "loc = data2['C1_NM'].str.match('살인')"
   ]
  },
  {
   "cell_type": "code",
   "execution_count": null,
   "id": "4021e241",
   "metadata": {},
   "outputs": [],
   "source": [
    "data2.loc[loc, 'C1_NM'].unique()"
   ]
  },
  {
   "cell_type": "code",
   "execution_count": null,
   "id": "6b3e4062",
   "metadata": {},
   "outputs": [],
   "source": [
    "data2.loc[loc, 'C1_NM'] = '살인'"
   ]
  },
  {
   "cell_type": "markdown",
   "id": "2b18241a",
   "metadata": {},
   "source": [
    "--------------------------------------------"
   ]
  },
  {
   "cell_type": "code",
   "execution_count": null,
   "id": "a04bc894",
   "metadata": {},
   "outputs": [],
   "source": [
    "loc = data2['C1_NM'].str.match('상해')"
   ]
  },
  {
   "cell_type": "code",
   "execution_count": null,
   "id": "65a14d0c",
   "metadata": {},
   "outputs": [],
   "source": [
    "data2.loc[loc, 'C1_NM'].unique()"
   ]
  },
  {
   "cell_type": "code",
   "execution_count": null,
   "id": "d42791de",
   "metadata": {},
   "outputs": [],
   "source": [
    "data2.loc[loc, 'C1_NM'] = '상해'"
   ]
  },
  {
   "cell_type": "markdown",
   "id": "fb628399",
   "metadata": {},
   "source": [
    "--------------------------------------------"
   ]
  },
  {
   "cell_type": "code",
   "execution_count": null,
   "id": "1dc402d0",
   "metadata": {},
   "outputs": [],
   "source": [
    "loc = data2['C1_NM'].str.match('석유')"
   ]
  },
  {
   "cell_type": "code",
   "execution_count": null,
   "id": "5c2dc15e",
   "metadata": {},
   "outputs": [],
   "source": [
    "data2.loc[loc, 'C1_NM'].unique()"
   ]
  },
  {
   "cell_type": "code",
   "execution_count": null,
   "id": "01b40c60",
   "metadata": {},
   "outputs": [],
   "source": [
    "data2.loc[loc, 'C1_NM'] = '석유관련법석유관련법'"
   ]
  },
  {
   "cell_type": "markdown",
   "id": "f0121200",
   "metadata": {},
   "source": [
    "--------------------------------------------"
   ]
  },
  {
   "cell_type": "code",
   "execution_count": null,
   "id": "3ade9cc3",
   "metadata": {},
   "outputs": [],
   "source": [
    "loc = data2['C1_NM'].str.match('성매매')"
   ]
  },
  {
   "cell_type": "code",
   "execution_count": null,
   "id": "ac74a77a",
   "metadata": {},
   "outputs": [],
   "source": [
    "data2.loc[loc, 'C1_NM'].unique()"
   ]
  },
  {
   "cell_type": "code",
   "execution_count": null,
   "id": "d0278187",
   "metadata": {},
   "outputs": [],
   "source": [
    "data2.loc[loc, 'C1_NM'] = '성매매'"
   ]
  },
  {
   "cell_type": "markdown",
   "id": "92720ac6",
   "metadata": {},
   "source": [
    "--------------------------------------------"
   ]
  },
  {
   "cell_type": "code",
   "execution_count": null,
   "id": "6780be9c",
   "metadata": {},
   "outputs": [],
   "source": [
    "loc = data2['C1_NM'].str.match('수산업법|수산자원')"
   ]
  },
  {
   "cell_type": "code",
   "execution_count": null,
   "id": "917cb53e",
   "metadata": {},
   "outputs": [],
   "source": [
    "data2.loc[loc, 'C1_NM'].unique()"
   ]
  },
  {
   "cell_type": "code",
   "execution_count": null,
   "id": "67ea352a",
   "metadata": {},
   "outputs": [],
   "source": [
    "data2.loc[loc, 'C1_NM'] = '수산업법'"
   ]
  },
  {
   "cell_type": "markdown",
   "id": "84e40008",
   "metadata": {},
   "source": [
    "--------------------------------------------"
   ]
  },
  {
   "cell_type": "code",
   "execution_count": null,
   "id": "ea43cf99",
   "metadata": {},
   "outputs": [],
   "source": [
    "loc = data2['C1_NM'].str.match('스토킹')"
   ]
  },
  {
   "cell_type": "code",
   "execution_count": null,
   "id": "47ccf2fe",
   "metadata": {},
   "outputs": [],
   "source": [
    "data2.loc[loc, 'C1_NM'].unique()"
   ]
  },
  {
   "cell_type": "code",
   "execution_count": null,
   "id": "51343856",
   "metadata": {},
   "outputs": [],
   "source": [
    "data2.loc[loc, 'C1_NM'] = '스토킹 관한법률'"
   ]
  },
  {
   "cell_type": "markdown",
   "id": "7132e478",
   "metadata": {},
   "source": [
    "--------------------------------------------"
   ]
  },
  {
   "cell_type": "code",
   "execution_count": null,
   "id": "46ef5802",
   "metadata": {},
   "outputs": [],
   "source": [
    "loc = data2['C1_NM'].str.match('신용.+경매')"
   ]
  },
  {
   "cell_type": "code",
   "execution_count": null,
   "id": "416e32c6",
   "metadata": {},
   "outputs": [],
   "source": [
    "data2.loc[loc, 'C1_NM'].unique()"
   ]
  },
  {
   "cell_type": "code",
   "execution_count": null,
   "id": "37d40518",
   "metadata": {},
   "outputs": [],
   "source": [
    "data2.loc[loc, 'C1_NM'] = '신용업무경매'"
   ]
  },
  {
   "cell_type": "markdown",
   "id": "62d472be",
   "metadata": {},
   "source": [
    "--------------------------------------------"
   ]
  },
  {
   "cell_type": "code",
   "execution_count": null,
   "id": "4f220b4f",
   "metadata": {},
   "outputs": [],
   "source": [
    "loc = data2['C1_NM'].str.match('신용카드|신용정보')"
   ]
  },
  {
   "cell_type": "code",
   "execution_count": null,
   "id": "687c01d0",
   "metadata": {},
   "outputs": [],
   "source": [
    "data2.loc[loc, 'C1_NM'].unique()"
   ]
  },
  {
   "cell_type": "code",
   "execution_count": null,
   "id": "64fd1a0c",
   "metadata": {},
   "outputs": [],
   "source": [
    "data2.loc[loc, 'C1_NM'] = '신용카드업법'"
   ]
  },
  {
   "cell_type": "markdown",
   "id": "341b8355",
   "metadata": {},
   "source": [
    "--------------------------------------------"
   ]
  },
  {
   "cell_type": "code",
   "execution_count": null,
   "id": "8123306e",
   "metadata": {},
   "outputs": [],
   "source": [
    "loc = data2['C1_NM'].str.match('아동')\n",
    "loc &= ~data2['C1_NM'].str.match('아동복지')"
   ]
  },
  {
   "cell_type": "code",
   "execution_count": null,
   "id": "5009d020",
   "metadata": {},
   "outputs": [],
   "source": [
    "data2.loc[loc, 'C1_NM'].unique()"
   ]
  },
  {
   "cell_type": "code",
   "execution_count": null,
   "id": "ec7c1cd0",
   "metadata": {},
   "outputs": [],
   "source": [
    "data2.loc[loc, 'C1_NM'] = '아동청소년의 성보호에 관한법률'"
   ]
  },
  {
   "cell_type": "markdown",
   "id": "059d50f6",
   "metadata": {},
   "source": [
    "--------------------------------------------"
   ]
  },
  {
   "cell_type": "code",
   "execution_count": null,
   "id": "9a7c4b99",
   "metadata": {},
   "outputs": [],
   "source": [
    "loc = data2['C1_NM'].str.match('약취')"
   ]
  },
  {
   "cell_type": "code",
   "execution_count": null,
   "id": "edcf0bc3",
   "metadata": {},
   "outputs": [],
   "source": [
    "data2.loc[loc, 'C1_NM'].unique()"
   ]
  },
  {
   "cell_type": "code",
   "execution_count": null,
   "id": "c78de05e",
   "metadata": {},
   "outputs": [],
   "source": [
    "data2.loc[loc, 'C1_NM'] = '약취와 유인'"
   ]
  },
  {
   "cell_type": "markdown",
   "id": "499bdd08",
   "metadata": {},
   "source": [
    "--------------------------------------------"
   ]
  },
  {
   "cell_type": "code",
   "execution_count": null,
   "id": "df0e638b",
   "metadata": {},
   "outputs": [],
   "source": [
    "loc = data2['C1_NM'].str.match('약취')"
   ]
  },
  {
   "cell_type": "code",
   "execution_count": null,
   "id": "b851dbda",
   "metadata": {},
   "outputs": [],
   "source": [
    "data2.loc[loc, 'C1_NM'].unique()"
   ]
  },
  {
   "cell_type": "code",
   "execution_count": null,
   "id": "9b4825c6",
   "metadata": {},
   "outputs": [],
   "source": [
    "data2.loc[loc, 'C1_NM'] = '약취와 유인'"
   ]
  },
  {
   "cell_type": "markdown",
   "id": "294f553b",
   "metadata": {},
   "source": [
    "--------------------------------------------"
   ]
  },
  {
   "cell_type": "code",
   "execution_count": null,
   "id": "f406070d",
   "metadata": {},
   "outputs": [],
   "source": [
    "loc = data2['C1_NM'].str.match('업무상')"
   ]
  },
  {
   "cell_type": "code",
   "execution_count": null,
   "id": "6d9eb3ce",
   "metadata": {},
   "outputs": [],
   "source": [
    "data2.loc[loc, 'C1_NM'].unique()"
   ]
  },
  {
   "cell_type": "code",
   "execution_count": null,
   "id": "f8249ab5",
   "metadata": {},
   "outputs": [],
   "source": [
    "data2.loc[loc, 'C1_NM'] = '업무상과실치사'"
   ]
  },
  {
   "cell_type": "markdown",
   "id": "74225f6c",
   "metadata": {},
   "source": [
    "--------------------------------------------"
   ]
  },
  {
   "cell_type": "code",
   "execution_count": null,
   "id": "21c5c6eb",
   "metadata": {},
   "outputs": [],
   "source": [
    "loc = data2['C1_NM'].str.match('오수')"
   ]
  },
  {
   "cell_type": "code",
   "execution_count": null,
   "id": "00299ecf",
   "metadata": {},
   "outputs": [],
   "source": [
    "data2.loc[loc, 'C1_NM'].unique()"
   ]
  },
  {
   "cell_type": "code",
   "execution_count": null,
   "id": "11e95f2c",
   "metadata": {},
   "outputs": [],
   "source": [
    "data2.loc[loc, 'C1_NM'] = '오수 분뇨 및 축산폐수의 처리에 관한법률'"
   ]
  },
  {
   "cell_type": "markdown",
   "id": "ca9e5ec5",
   "metadata": {},
   "source": [
    "--------------------------------------------"
   ]
  },
  {
   "cell_type": "code",
   "execution_count": null,
   "id": "a92cbf2d",
   "metadata": {},
   "outputs": [],
   "source": [
    "loc = data2['C1_NM'].str.match('옥외광고물')"
   ]
  },
  {
   "cell_type": "code",
   "execution_count": null,
   "id": "731c1f42",
   "metadata": {},
   "outputs": [],
   "source": [
    "data2.loc[loc, 'C1_NM'].unique()"
   ]
  },
  {
   "cell_type": "code",
   "execution_count": null,
   "id": "d3c5b91b",
   "metadata": {},
   "outputs": [],
   "source": [
    "data2.loc[loc, 'C1_NM'] = '옥외광고물등관리법'"
   ]
  },
  {
   "cell_type": "markdown",
   "id": "ffa9498a",
   "metadata": {},
   "source": [
    "--------------------------------------------"
   ]
  },
  {
   "cell_type": "code",
   "execution_count": null,
   "id": "9a9508e9",
   "metadata": {},
   "outputs": [],
   "source": [
    "loc = data2['C1_NM'].str.match('외국환')"
   ]
  },
  {
   "cell_type": "code",
   "execution_count": null,
   "id": "487ce5f4",
   "metadata": {},
   "outputs": [],
   "source": [
    "data2.loc[loc, 'C1_NM'].unique()"
   ]
  },
  {
   "cell_type": "code",
   "execution_count": null,
   "id": "6cb1ca04",
   "metadata": {},
   "outputs": [],
   "source": [
    "data2.loc[loc, 'C1_NM'] = '외국환거래법'"
   ]
  },
  {
   "cell_type": "markdown",
   "id": "39a2329c",
   "metadata": {},
   "source": [
    "--------------------------------------------"
   ]
  },
  {
   "cell_type": "code",
   "execution_count": null,
   "id": "2a27eb3f",
   "metadata": {},
   "outputs": [],
   "source": [
    "loc = data2['C1_NM'].str.match('위증')"
   ]
  },
  {
   "cell_type": "code",
   "execution_count": null,
   "id": "48ec3577",
   "metadata": {},
   "outputs": [],
   "source": [
    "data2.loc[loc, 'C1_NM'].unique()"
   ]
  },
  {
   "cell_type": "code",
   "execution_count": null,
   "id": "b178a38d",
   "metadata": {},
   "outputs": [],
   "source": [
    "data2.loc[loc, 'C1_NM'] = '위증과증거인멸'"
   ]
  },
  {
   "cell_type": "markdown",
   "id": "e167e2ad",
   "metadata": {},
   "source": [
    "--------------------------------------------"
   ]
  },
  {
   "cell_type": "code",
   "execution_count": null,
   "id": "e97fc5b4",
   "metadata": {},
   "outputs": [],
   "source": [
    "loc = data2['C1_NM'].str.match('유가증권')"
   ]
  },
  {
   "cell_type": "code",
   "execution_count": null,
   "id": "c35a8d84",
   "metadata": {},
   "outputs": [],
   "source": [
    "data2.loc[loc, 'C1_NM'].unique()"
   ]
  },
  {
   "cell_type": "code",
   "execution_count": null,
   "id": "db5fbf2d",
   "metadata": {},
   "outputs": [],
   "source": [
    "data2.loc[loc, 'C1_NM'] = '유가증권 인지 우표'"
   ]
  },
  {
   "cell_type": "markdown",
   "id": "0c2c2b3c",
   "metadata": {},
   "source": [
    "--------------------------------------------"
   ]
  },
  {
   "cell_type": "code",
   "execution_count": null,
   "id": "4ef5948a",
   "metadata": {},
   "outputs": [],
   "source": [
    "loc = data2['C1_NM'].str.match('유기|유기치')"
   ]
  },
  {
   "cell_type": "code",
   "execution_count": null,
   "id": "064503de",
   "metadata": {},
   "outputs": [],
   "source": [
    "data2.loc[loc, 'C1_NM'].unique()"
   ]
  },
  {
   "cell_type": "code",
   "execution_count": null,
   "id": "c2d17a27",
   "metadata": {},
   "outputs": [],
   "source": [
    "data2.loc[loc, 'C1_NM'] = '유기'"
   ]
  },
  {
   "cell_type": "markdown",
   "id": "9409a471",
   "metadata": {},
   "source": [
    "--------------------------------------------"
   ]
  },
  {
   "cell_type": "code",
   "execution_count": null,
   "id": "e9af0bc6",
   "metadata": {},
   "outputs": [],
   "source": [
    "loc = data2['C1_NM'].str.match('유해')"
   ]
  },
  {
   "cell_type": "code",
   "execution_count": null,
   "id": "cd4c035d",
   "metadata": {},
   "outputs": [],
   "source": [
    "data2.loc[loc, 'C1_NM'].unique()"
   ]
  },
  {
   "cell_type": "code",
   "execution_count": null,
   "id": "cccad827",
   "metadata": {},
   "outputs": [],
   "source": [
    "data2.loc[loc, 'C1_NM'] = '유해화학물질관리법'"
   ]
  },
  {
   "cell_type": "markdown",
   "id": "0b1a0d10",
   "metadata": {},
   "source": [
    "--------------------------------------------"
   ]
  },
  {
   "cell_type": "code",
   "execution_count": null,
   "id": "c3207b42",
   "metadata": {},
   "outputs": [],
   "source": [
    "loc = data2['C1_NM'].str.match('윤락행위')"
   ]
  },
  {
   "cell_type": "code",
   "execution_count": null,
   "id": "02d477c4",
   "metadata": {},
   "outputs": [],
   "source": [
    "data2.loc[loc, 'C1_NM'].unique()"
   ]
  },
  {
   "cell_type": "code",
   "execution_count": null,
   "id": "88108141",
   "metadata": {},
   "outputs": [],
   "source": [
    "data2.loc[loc, 'C1_NM'] = '윤락행위등방지법'"
   ]
  },
  {
   "cell_type": "markdown",
   "id": "c668a0a3",
   "metadata": {},
   "source": [
    "--------------------------------------------"
   ]
  },
  {
   "cell_type": "code",
   "execution_count": null,
   "id": "5becd469",
   "metadata": {},
   "outputs": [],
   "source": [
    "loc = data2['C1_NM'].str.match('음반')"
   ]
  },
  {
   "cell_type": "code",
   "execution_count": null,
   "id": "65d7c968",
   "metadata": {},
   "outputs": [],
   "source": [
    "data2.loc[loc, 'C1_NM'].unique()"
   ]
  },
  {
   "cell_type": "code",
   "execution_count": null,
   "id": "8c2ec47a",
   "metadata": {},
   "outputs": [],
   "source": [
    "data2.loc[loc, 'C1_NM'] = '음반 비디오물 및 게임물에 관한법률'"
   ]
  },
  {
   "cell_type": "markdown",
   "id": "e03b9ce6",
   "metadata": {},
   "source": [
    "--------------------------------------------"
   ]
  },
  {
   "cell_type": "code",
   "execution_count": null,
   "id": "82165f98",
   "metadata": {},
   "outputs": [],
   "source": [
    "loc = data2['C1_NM'].str.match('음용')"
   ]
  },
  {
   "cell_type": "code",
   "execution_count": null,
   "id": "6cd94213",
   "metadata": {},
   "outputs": [],
   "source": [
    "data2.loc[loc, 'C1_NM'].unique()"
   ]
  },
  {
   "cell_type": "code",
   "execution_count": null,
   "id": "71098e8e",
   "metadata": {},
   "outputs": [],
   "source": [
    "data2.loc[loc, 'C1_NM'] = '음용수에관한죄'"
   ]
  },
  {
   "cell_type": "markdown",
   "id": "1f917714",
   "metadata": {},
   "source": [
    "--------------------------------------------"
   ]
  },
  {
   "cell_type": "code",
   "execution_count": null,
   "id": "3597a032",
   "metadata": {},
   "outputs": [],
   "source": [
    "loc = data2['C1_NM'].str.match('일수와')"
   ]
  },
  {
   "cell_type": "code",
   "execution_count": null,
   "id": "5f1d2a88",
   "metadata": {},
   "outputs": [],
   "source": [
    "data2.loc[loc, 'C1_NM'].unique()"
   ]
  },
  {
   "cell_type": "code",
   "execution_count": null,
   "id": "c6d80daa",
   "metadata": {},
   "outputs": [],
   "source": [
    "data2.loc[loc, 'C1_NM'] = '일수와수리에관한죄'"
   ]
  },
  {
   "cell_type": "markdown",
   "id": "c18576a0",
   "metadata": {},
   "source": [
    "--------------------------------------------"
   ]
  },
  {
   "cell_type": "code",
   "execution_count": null,
   "id": "e24cd7e2",
   "metadata": {},
   "outputs": [],
   "source": [
    "loc = data2['C1_NM'].str.match('자동차')"
   ]
  },
  {
   "cell_type": "code",
   "execution_count": null,
   "id": "1dadc9ec",
   "metadata": {},
   "outputs": [],
   "source": [
    "data2.loc[loc, 'C1_NM'].unique()"
   ]
  },
  {
   "cell_type": "code",
   "execution_count": null,
   "id": "95f7a8cb",
   "metadata": {},
   "outputs": [],
   "source": [
    "data2.loc[loc, 'C1_NM'] = '자동차관리법'"
   ]
  },
  {
   "cell_type": "markdown",
   "id": "9e123a81",
   "metadata": {},
   "source": [
    "--------------------------------------------"
   ]
  },
  {
   "cell_type": "code",
   "execution_count": null,
   "id": "2e444990",
   "metadata": {},
   "outputs": [],
   "source": [
    "loc = data2['C1_NM'].str.match('정보통신망')"
   ]
  },
  {
   "cell_type": "code",
   "execution_count": null,
   "id": "deb7842e",
   "metadata": {},
   "outputs": [],
   "source": [
    "data2.loc[loc, 'C1_NM'].unique()"
   ]
  },
  {
   "cell_type": "code",
   "execution_count": null,
   "id": "bc4c8cd2",
   "metadata": {},
   "outputs": [],
   "source": [
    "data2.loc[loc, 'C1_NM'] = '정보통신망이용촉진 등에 관한법률'"
   ]
  },
  {
   "cell_type": "markdown",
   "id": "007cfe9b",
   "metadata": {},
   "source": [
    "--------------------------------------------"
   ]
  },
  {
   "cell_type": "code",
   "execution_count": null,
   "id": "c092b154",
   "metadata": {},
   "outputs": [],
   "source": [
    "loc = data2['C1_NM'].str.match('조세범')"
   ]
  },
  {
   "cell_type": "code",
   "execution_count": null,
   "id": "066ad98f",
   "metadata": {},
   "outputs": [],
   "source": [
    "data2.loc[loc, 'C1_NM'].unique()"
   ]
  },
  {
   "cell_type": "code",
   "execution_count": null,
   "id": "1af271e4",
   "metadata": {},
   "outputs": [],
   "source": [
    "data2.loc[loc, 'C1_NM'] = '조세범처벌법'"
   ]
  },
  {
   "cell_type": "markdown",
   "id": "6efe0de5",
   "metadata": {},
   "source": [
    "--------------------------------------------"
   ]
  },
  {
   "cell_type": "code",
   "execution_count": null,
   "id": "4d276b2b",
   "metadata": {},
   "outputs": [],
   "source": [
    "loc = data2['C1_NM'].str.match('조수보호')"
   ]
  },
  {
   "cell_type": "code",
   "execution_count": null,
   "id": "31f48ef5",
   "metadata": {},
   "outputs": [],
   "source": [
    "data2.loc[loc, 'C1_NM'].unique()"
   ]
  },
  {
   "cell_type": "code",
   "execution_count": null,
   "id": "ce8bfc79",
   "metadata": {},
   "outputs": [],
   "source": [
    "data2.loc[loc, 'C1_NM'] = '조수보호 및 수렵에관한법률'"
   ]
  },
  {
   "cell_type": "markdown",
   "id": "c57cc90d",
   "metadata": {},
   "source": [
    "--------------------------------------------"
   ]
  },
  {
   "cell_type": "code",
   "execution_count": null,
   "id": "ebc63844",
   "metadata": {},
   "outputs": [],
   "source": [
    "loc = data2['C1_NM'].str.match('주거\\s?침')"
   ]
  },
  {
   "cell_type": "code",
   "execution_count": null,
   "id": "d33563c0",
   "metadata": {},
   "outputs": [],
   "source": [
    "data2.loc[loc, 'C1_NM'].unique()"
   ]
  },
  {
   "cell_type": "code",
   "execution_count": null,
   "id": "23aebfdd",
   "metadata": {},
   "outputs": [],
   "source": [
    "data2.loc[loc, 'C1_NM'] = '주거침입'"
   ]
  },
  {
   "cell_type": "markdown",
   "id": "4f0d5ff1",
   "metadata": {},
   "source": [
    "--------------------------------------------"
   ]
  },
  {
   "cell_type": "code",
   "execution_count": null,
   "id": "18e59618",
   "metadata": {},
   "outputs": [],
   "source": [
    "loc = data2['C1_NM'].str.match('^청소년')"
   ]
  },
  {
   "cell_type": "code",
   "execution_count": null,
   "id": "6aab1689",
   "metadata": {},
   "outputs": [],
   "source": [
    "data2.loc[loc, 'C1_NM'].unique()"
   ]
  },
  {
   "cell_type": "code",
   "execution_count": null,
   "id": "c7df9efb",
   "metadata": {},
   "outputs": [],
   "source": [
    "data2.loc[loc, 'C1_NM'] = '청소년보호법'"
   ]
  },
  {
   "cell_type": "markdown",
   "id": "178ff64a",
   "metadata": {},
   "source": [
    "--------------------------------------------"
   ]
  },
  {
   "cell_type": "code",
   "execution_count": null,
   "id": "334a435f",
   "metadata": {},
   "outputs": [],
   "source": [
    "loc = data2['C1_NM'].str.match('체포와')"
   ]
  },
  {
   "cell_type": "code",
   "execution_count": null,
   "id": "76b6cf3b",
   "metadata": {},
   "outputs": [],
   "source": [
    "data2.loc[loc, 'C1_NM'].unique()"
   ]
  },
  {
   "cell_type": "code",
   "execution_count": null,
   "id": "062b5496",
   "metadata": {},
   "outputs": [],
   "source": [
    "data2.loc[loc, 'C1_NM'] = '체포와감금'"
   ]
  },
  {
   "cell_type": "markdown",
   "id": "a176f697",
   "metadata": {},
   "source": [
    "--------------------------------------------"
   ]
  },
  {
   "cell_type": "code",
   "execution_count": null,
   "id": "0d80f5ec",
   "metadata": {},
   "outputs": [],
   "source": [
    "loc = data2['C1_NM'].str.match('체포치')"
   ]
  },
  {
   "cell_type": "code",
   "execution_count": null,
   "id": "a1c0b90f",
   "metadata": {},
   "outputs": [],
   "source": [
    "data2.loc[loc, 'C1_NM'].unique()"
   ]
  },
  {
   "cell_type": "code",
   "execution_count": null,
   "id": "21ec2c52",
   "metadata": {},
   "outputs": [],
   "source": [
    "data2.loc[loc, 'C1_NM'] = '체포치사상'"
   ]
  },
  {
   "cell_type": "markdown",
   "id": "becc1840",
   "metadata": {},
   "source": [
    "--------------------------------------------"
   ]
  },
  {
   "cell_type": "code",
   "execution_count": null,
   "id": "00624ef7",
   "metadata": {},
   "outputs": [],
   "source": [
    "loc = data2['C1_NM'].str.match('총계')"
   ]
  },
  {
   "cell_type": "code",
   "execution_count": null,
   "id": "abf0e9b5",
   "metadata": {},
   "outputs": [],
   "source": [
    "data2 = data2.loc[~loc]"
   ]
  },
  {
   "cell_type": "code",
   "execution_count": null,
   "id": "8296ede9",
   "metadata": {},
   "outputs": [],
   "source": []
  },
  {
   "cell_type": "markdown",
   "id": "26947610",
   "metadata": {},
   "source": [
    "--------------------------------------------"
   ]
  },
  {
   "cell_type": "code",
   "execution_count": null,
   "id": "fc2a0e23",
   "metadata": {},
   "outputs": [],
   "source": [
    "loc = data2['C1_NM'].str.match('총포')"
   ]
  },
  {
   "cell_type": "code",
   "execution_count": null,
   "id": "586fd796",
   "metadata": {},
   "outputs": [],
   "source": [
    "data2.loc[loc, 'C1_NM'].unique()"
   ]
  },
  {
   "cell_type": "code",
   "execution_count": null,
   "id": "6cb98b9b",
   "metadata": {},
   "outputs": [],
   "source": [
    "data2.loc[loc, 'C1_NM'] = '총포 도검 화약류 단속법'"
   ]
  },
  {
   "cell_type": "markdown",
   "id": "73ab540a",
   "metadata": {},
   "source": [
    "--------------------------------------------"
   ]
  },
  {
   "cell_type": "code",
   "execution_count": null,
   "id": "0a06f353",
   "metadata": {},
   "outputs": [],
   "source": [
    "loc = data2['C1_NM'].str.match('촬영물')"
   ]
  },
  {
   "cell_type": "code",
   "execution_count": null,
   "id": "e3866510",
   "metadata": {},
   "outputs": [],
   "source": [
    "data2.loc[loc, 'C1_NM'].unique()"
   ]
  },
  {
   "cell_type": "code",
   "execution_count": null,
   "id": "cf2a560a",
   "metadata": {},
   "outputs": [],
   "source": [
    "data2.loc[loc, 'C1_NM'] = '촬영물등 이용협박 강요'"
   ]
  },
  {
   "cell_type": "markdown",
   "id": "1e2903d9",
   "metadata": {},
   "source": [
    "--------------------------------------------"
   ]
  },
  {
   "cell_type": "code",
   "execution_count": null,
   "id": "45dcb8b9",
   "metadata": {},
   "outputs": [],
   "source": [
    "loc = data2['C1_NM'].str.match('축산물')"
   ]
  },
  {
   "cell_type": "code",
   "execution_count": null,
   "id": "6f25cd8d",
   "metadata": {},
   "outputs": [],
   "source": [
    "data2.loc[loc, 'C1_NM'].unique()"
   ]
  },
  {
   "cell_type": "code",
   "execution_count": null,
   "id": "da158a81",
   "metadata": {},
   "outputs": [],
   "source": [
    "data2.loc[loc, 'C1_NM'] = '축산물위생처리법'"
   ]
  },
  {
   "cell_type": "markdown",
   "id": "4ba7c125",
   "metadata": {},
   "source": [
    "--------------------------------------------"
   ]
  },
  {
   "cell_type": "code",
   "execution_count": null,
   "id": "e9185198",
   "metadata": {},
   "outputs": [],
   "source": [
    "loc = data2['C1_NM'].str.match('특가법')"
   ]
  },
  {
   "cell_type": "code",
   "execution_count": null,
   "id": "92a462b2",
   "metadata": {},
   "outputs": [],
   "source": [
    "data2.loc[loc, 'C1_NM'].unique()"
   ]
  },
  {
   "cell_type": "code",
   "execution_count": null,
   "id": "4cccd47d",
   "metadata": {},
   "outputs": [],
   "source": [
    "data2.loc[loc, 'C1_NM'] = '특가법'"
   ]
  },
  {
   "cell_type": "markdown",
   "id": "3c13120d",
   "metadata": {},
   "source": [
    "--------------------------------------------"
   ]
  },
  {
   "cell_type": "code",
   "execution_count": null,
   "id": "4070a7b7",
   "metadata": {},
   "outputs": [],
   "source": [
    "loc = data2['C1_NM'].str.match('특별법')"
   ]
  },
  {
   "cell_type": "code",
   "execution_count": null,
   "id": "3f558b79",
   "metadata": {},
   "outputs": [],
   "source": [
    "data2.loc[loc, 'C1_NM'].unique()"
   ]
  },
  {
   "cell_type": "code",
   "execution_count": null,
   "id": "19d4d475",
   "metadata": {},
   "outputs": [],
   "source": [
    "data2.loc[loc, 'C1_NM'] = '특별법범'"
   ]
  },
  {
   "cell_type": "markdown",
   "id": "7d6f0f9d",
   "metadata": {},
   "source": [
    "--------------------------------------------"
   ]
  },
  {
   "cell_type": "code",
   "execution_count": null,
   "id": "bb5d91be",
   "metadata": {},
   "outputs": [],
   "source": [
    "loc = data2['C1_NM'].str.match('폭력행위')"
   ]
  },
  {
   "cell_type": "code",
   "execution_count": null,
   "id": "b43157f7",
   "metadata": {},
   "outputs": [],
   "source": [
    "data2.loc[loc, 'C1_NM'].unique()"
   ]
  },
  {
   "cell_type": "code",
   "execution_count": null,
   "id": "f717dd6a",
   "metadata": {},
   "outputs": [],
   "source": [
    "data2.loc[loc, 'C1_NM'] = '폭력행위 등'"
   ]
  },
  {
   "cell_type": "markdown",
   "id": "1f4d9dd8",
   "metadata": {},
   "source": [
    "--------------------------------------------"
   ]
  },
  {
   "cell_type": "code",
   "execution_count": null,
   "id": "b03689c7",
   "metadata": {},
   "outputs": [],
   "source": [
    "loc = data2['C1_NM'].str.match('폭행')"
   ]
  },
  {
   "cell_type": "code",
   "execution_count": null,
   "id": "e43676ee",
   "metadata": {},
   "outputs": [],
   "source": [
    "data2.loc[loc, 'C1_NM'].unique()"
   ]
  },
  {
   "cell_type": "code",
   "execution_count": null,
   "id": "3885d727",
   "metadata": {},
   "outputs": [],
   "source": [
    "data2.loc[loc, 'C1_NM'] = '폭행'"
   ]
  },
  {
   "cell_type": "markdown",
   "id": "5d529cab",
   "metadata": {},
   "source": [
    "--------------------------------------------"
   ]
  },
  {
   "cell_type": "code",
   "execution_count": null,
   "id": "90bac811",
   "metadata": {},
   "outputs": [],
   "source": [
    "loc = data2['C1_NM'].str.match('풍속')"
   ]
  },
  {
   "cell_type": "code",
   "execution_count": null,
   "id": "036a063d",
   "metadata": {},
   "outputs": [],
   "source": [
    "data2.loc[loc, 'C1_NM'].unique()"
   ]
  },
  {
   "cell_type": "code",
   "execution_count": null,
   "id": "02843865",
   "metadata": {},
   "outputs": [],
   "source": [
    "data2.loc[loc, 'C1_NM'] = '풍속범죄'"
   ]
  },
  {
   "cell_type": "markdown",
   "id": "f04df553",
   "metadata": {},
   "source": [
    "--------------------------------------------"
   ]
  },
  {
   "cell_type": "code",
   "execution_count": null,
   "id": "910ff935",
   "metadata": {},
   "outputs": [],
   "source": [
    "loc = data2['C1_NM'].str.match('학원의')"
   ]
  },
  {
   "cell_type": "code",
   "execution_count": null,
   "id": "f9f06df8",
   "metadata": {},
   "outputs": [],
   "source": [
    "data2.loc[loc, 'C1_NM'].unique()"
   ]
  },
  {
   "cell_type": "code",
   "execution_count": null,
   "id": "ed1dba1f",
   "metadata": {},
   "outputs": [],
   "source": [
    "data2.loc[loc, 'C1_NM'] = '학원의설립운영 및 과외교습에 관한법률'"
   ]
  },
  {
   "cell_type": "markdown",
   "id": "849c74e8",
   "metadata": {},
   "source": [
    "--------------------------------------------"
   ]
  },
  {
   "cell_type": "code",
   "execution_count": null,
   "id": "f523ce27",
   "metadata": {},
   "outputs": [],
   "source": [
    "loc = data2['C1_NM'].str.match('허위영상')"
   ]
  },
  {
   "cell_type": "code",
   "execution_count": null,
   "id": "933f319a",
   "metadata": {},
   "outputs": [],
   "source": [
    "data2.loc[loc, 'C1_NM'].unique()"
   ]
  },
  {
   "cell_type": "code",
   "execution_count": null,
   "id": "2a07410a",
   "metadata": {},
   "outputs": [],
   "source": [
    "data2.loc[loc, 'C1_NM'] = '허위영상물 편집 반포등'"
   ]
  },
  {
   "cell_type": "markdown",
   "id": "28792cb4",
   "metadata": {},
   "source": [
    "--------------------------------------------"
   ]
  },
  {
   "cell_type": "code",
   "execution_count": null,
   "id": "ca29488e",
   "metadata": {},
   "outputs": [],
   "source": [
    "loc = data2['C1_NM'].str.match('화재')"
   ]
  },
  {
   "cell_type": "code",
   "execution_count": null,
   "id": "3e3ae795",
   "metadata": {},
   "outputs": [],
   "source": [
    "data2.loc[loc, 'C1_NM'].unique()"
   ]
  },
  {
   "cell_type": "code",
   "execution_count": null,
   "id": "fb76c84d",
   "metadata": {},
   "outputs": [],
   "source": [
    "data2.loc[loc, 'C1_NM'] = '화재예방 소방시설설치유지 및 안전관리에 관한법률'"
   ]
  },
  {
   "cell_type": "markdown",
   "id": "a4e67cd1",
   "metadata": {},
   "source": [
    "--------------------------------------------"
   ]
  },
  {
   "cell_type": "code",
   "execution_count": null,
   "id": "22c5d3ee",
   "metadata": {},
   "outputs": [],
   "source": [
    "loc = data2['C1_NM'].str.match('강도')"
   ]
  },
  {
   "cell_type": "code",
   "execution_count": null,
   "id": "9aa82e3f",
   "metadata": {},
   "outputs": [],
   "source": [
    "data2.loc[loc, 'C1_NM'].unique()"
   ]
  },
  {
   "cell_type": "code",
   "execution_count": null,
   "id": "2ff11d04",
   "metadata": {},
   "outputs": [],
   "source": [
    "data2.loc[loc, 'C1_NM'] = '강도 관련'"
   ]
  },
  {
   "cell_type": "markdown",
   "id": "a396e29e",
   "metadata": {},
   "source": [
    "--------------------------------------------"
   ]
  },
  {
   "cell_type": "code",
   "execution_count": null,
   "id": "4205dfcd",
   "metadata": {},
   "outputs": [],
   "source": [
    "loc = data2['C1_NM'].str.match('강간')"
   ]
  },
  {
   "cell_type": "code",
   "execution_count": null,
   "id": "30333e3e",
   "metadata": {},
   "outputs": [],
   "source": [
    "data2.loc[loc, 'C1_NM'].unique()"
   ]
  },
  {
   "cell_type": "code",
   "execution_count": null,
   "id": "d8125e41",
   "metadata": {},
   "outputs": [],
   "source": [
    "data2.loc[loc, 'C1_NM'] = '강간 관련'"
   ]
  },
  {
   "cell_type": "markdown",
   "id": "3f4ad0ce",
   "metadata": {},
   "source": [
    "--------------------------------------------"
   ]
  },
  {
   "cell_type": "code",
   "execution_count": null,
   "id": "b7ef6fd0",
   "metadata": {},
   "outputs": [],
   "source": [
    "loc = data2['C1_NM'].str.match('가정')"
   ]
  },
  {
   "cell_type": "code",
   "execution_count": null,
   "id": "a29ff72f",
   "metadata": {},
   "outputs": [],
   "source": [
    "data2.loc[loc, 'C1_NM'].unique()"
   ]
  },
  {
   "cell_type": "code",
   "execution_count": null,
   "id": "9b45c999",
   "metadata": {},
   "outputs": [],
   "source": [
    "data2.loc[loc, 'C1_NM'] = '가정폭력범죄'"
   ]
  },
  {
   "cell_type": "markdown",
   "id": "daeb148d",
   "metadata": {},
   "source": [
    "--------------------------------------------"
   ]
  },
  {
   "cell_type": "code",
   "execution_count": null,
   "id": "3d5795c1",
   "metadata": {},
   "outputs": [],
   "source": [
    "loc = data2['C1_NM'].str.match('개발제한')"
   ]
  },
  {
   "cell_type": "code",
   "execution_count": null,
   "id": "64805d65",
   "metadata": {},
   "outputs": [],
   "source": [
    "data2.loc[loc, 'C1_NM'].unique()"
   ]
  },
  {
   "cell_type": "code",
   "execution_count": null,
   "id": "b90248e6",
   "metadata": {},
   "outputs": [],
   "source": [
    "data2.loc[loc, 'C1_NM'] = '개발제한구역 관련'"
   ]
  },
  {
   "cell_type": "markdown",
   "id": "687e36e8",
   "metadata": {},
   "source": [
    "--------------------------------------------"
   ]
  },
  {
   "cell_type": "code",
   "execution_count": null,
   "id": "3f0f6efa",
   "metadata": {},
   "outputs": [],
   "source": [
    "loc = data2['C1_NM'].str.match('건설기계')"
   ]
  },
  {
   "cell_type": "code",
   "execution_count": null,
   "id": "2c61ec0f",
   "metadata": {},
   "outputs": [],
   "source": [
    "data2.loc[loc, 'C1_NM'].unique()"
   ]
  },
  {
   "cell_type": "code",
   "execution_count": null,
   "id": "675daa47",
   "metadata": {},
   "outputs": [],
   "source": [
    "data2.loc[loc, 'C1_NM'] = '건설기계관리법'"
   ]
  },
  {
   "cell_type": "markdown",
   "id": "d0dee320",
   "metadata": {},
   "source": [
    "--------------------------------------------"
   ]
  },
  {
   "cell_type": "code",
   "execution_count": null,
   "id": "541c66a9",
   "metadata": {},
   "outputs": [],
   "source": [
    "loc = data2['C1_NM'].str.match('공무')\n",
    "loc &= ~data2['C1_NM'].str.match('공무원')"
   ]
  },
  {
   "cell_type": "code",
   "execution_count": null,
   "id": "5545edb1",
   "metadata": {},
   "outputs": [],
   "source": [
    "data2.loc[loc, 'C1_NM'].unique()"
   ]
  },
  {
   "cell_type": "code",
   "execution_count": null,
   "id": "790a4953",
   "metadata": {},
   "outputs": [],
   "source": [
    "data2.loc[loc, 'C1_NM'] = '공무방해'"
   ]
  },
  {
   "cell_type": "markdown",
   "id": "e08d163e",
   "metadata": {},
   "source": [
    "--------------------------------------------"
   ]
  },
  {
   "cell_type": "code",
   "execution_count": null,
   "id": "a3559fd0",
   "metadata": {},
   "outputs": [],
   "source": [
    "loc = data2['C1_NM'].str.match('공무')\n",
    "loc &= ~data2['C1_NM'].str.match('공무원')"
   ]
  },
  {
   "cell_type": "code",
   "execution_count": null,
   "id": "e1f5829e",
   "metadata": {},
   "outputs": [],
   "source": [
    "data2.loc[loc, 'C1_NM'].unique()"
   ]
  },
  {
   "cell_type": "code",
   "execution_count": null,
   "id": "6743883b",
   "metadata": {},
   "outputs": [],
   "source": [
    "data2.loc[loc, 'C1_NM'] = '공무방해'"
   ]
  },
  {
   "cell_type": "markdown",
   "id": "c757c264",
   "metadata": {},
   "source": [
    "--------------------------------------------"
   ]
  },
  {
   "cell_type": "code",
   "execution_count": null,
   "id": "d99b5952",
   "metadata": {},
   "outputs": [],
   "source": [
    "loc = data2['C1_NM'].str.match('공직')"
   ]
  },
  {
   "cell_type": "code",
   "execution_count": null,
   "id": "bbfa8834",
   "metadata": {},
   "outputs": [],
   "source": [
    "data2.loc[loc, 'C1_NM'].unique()"
   ]
  },
  {
   "cell_type": "code",
   "execution_count": null,
   "id": "d83589e6",
   "metadata": {},
   "outputs": [],
   "source": [
    "data2.loc[loc, 'C1_NM'] = '공직선거법'"
   ]
  },
  {
   "cell_type": "markdown",
   "id": "cfc608e2",
   "metadata": {},
   "source": [
    "--------------------------------------------"
   ]
  },
  {
   "cell_type": "code",
   "execution_count": null,
   "id": "c8e6c1ad",
   "metadata": {},
   "outputs": [],
   "source": [
    "loc = data2['C1_NM'].str.match('과실치')"
   ]
  },
  {
   "cell_type": "code",
   "execution_count": null,
   "id": "1d30fab2",
   "metadata": {},
   "outputs": [],
   "source": [
    "data2.loc[loc, 'C1_NM'].unique()"
   ]
  },
  {
   "cell_type": "code",
   "execution_count": null,
   "id": "28d482e2",
   "metadata": {},
   "outputs": [],
   "source": [
    "data2.loc[loc, 'C1_NM'] = '과실치사상'"
   ]
  },
  {
   "cell_type": "markdown",
   "id": "e5d65613",
   "metadata": {},
   "source": [
    "--------------------------------------------"
   ]
  },
  {
   "cell_type": "code",
   "execution_count": null,
   "id": "784264cd",
   "metadata": {},
   "outputs": [],
   "source": [
    "loc = data2['C1_NM'].str.match('교통사고')"
   ]
  },
  {
   "cell_type": "code",
   "execution_count": null,
   "id": "9d978772",
   "metadata": {},
   "outputs": [],
   "source": [
    "data2.loc[loc, 'C1_NM'].unique()"
   ]
  },
  {
   "cell_type": "code",
   "execution_count": null,
   "id": "178b4f74",
   "metadata": {},
   "outputs": [],
   "source": [
    "data2.loc[loc, 'C1_NM'] = '교통사고 처리특례법'"
   ]
  },
  {
   "cell_type": "markdown",
   "id": "3f0a5c8d",
   "metadata": {},
   "source": [
    "--------------------------------------------"
   ]
  },
  {
   "cell_type": "code",
   "execution_count": null,
   "id": "dbfbe386",
   "metadata": {},
   "outputs": [],
   "source": [
    "loc = data2['C1_NM'].str.match('권리행사')"
   ]
  },
  {
   "cell_type": "code",
   "execution_count": null,
   "id": "9b3717e1",
   "metadata": {},
   "outputs": [],
   "source": [
    "data2.loc[loc, 'C1_NM'].unique()"
   ]
  },
  {
   "cell_type": "code",
   "execution_count": null,
   "id": "cf035f14",
   "metadata": {},
   "outputs": [],
   "source": [
    "data2.loc[loc, 'C1_NM'] = '권리행사 방해'"
   ]
  },
  {
   "cell_type": "markdown",
   "id": "ef79d319",
   "metadata": {},
   "source": [
    "--------------------------------------------"
   ]
  },
  {
   "cell_type": "code",
   "execution_count": null,
   "id": "5b61b641",
   "metadata": {},
   "outputs": [],
   "source": [
    "loc = data2['C1_NM'].str.match('감금치')"
   ]
  },
  {
   "cell_type": "code",
   "execution_count": null,
   "id": "55b8ae14",
   "metadata": {},
   "outputs": [],
   "source": [
    "data2.loc[loc, 'C1_NM'].unique()"
   ]
  },
  {
   "cell_type": "code",
   "execution_count": null,
   "id": "170ca2b2",
   "metadata": {},
   "outputs": [],
   "source": [
    "data2.loc[loc, 'C1_NM'] = '감금치상사'"
   ]
  },
  {
   "cell_type": "markdown",
   "id": "b329acc0",
   "metadata": {},
   "source": [
    "--------------------------------------------"
   ]
  },
  {
   "cell_type": "code",
   "execution_count": null,
   "id": "65cdc6dc",
   "metadata": {},
   "outputs": [],
   "source": [
    "loc = data2['C1_NM'].str.match('강력범')"
   ]
  },
  {
   "cell_type": "code",
   "execution_count": null,
   "id": "6d80efde",
   "metadata": {},
   "outputs": [],
   "source": [
    "data2.loc[loc, 'C1_NM'].unique()"
   ]
  },
  {
   "cell_type": "code",
   "execution_count": null,
   "id": "43b65daa",
   "metadata": {},
   "outputs": [],
   "source": [
    "data2.loc[loc, 'C1_NM'] = '강력범죄'"
   ]
  },
  {
   "cell_type": "markdown",
   "id": "b2eb266f",
   "metadata": {},
   "source": [
    "--------------------------------------------"
   ]
  },
  {
   "cell_type": "code",
   "execution_count": null,
   "id": "db758b82",
   "metadata": {},
   "outputs": [],
   "source": [
    "loc = data2['C1_NM'].str.match('건설')"
   ]
  },
  {
   "cell_type": "code",
   "execution_count": null,
   "id": "74da3248",
   "metadata": {},
   "outputs": [],
   "source": [
    "data2.loc[loc, 'C1_NM'].unique()"
   ]
  },
  {
   "cell_type": "code",
   "execution_count": null,
   "id": "b0e67859",
   "metadata": {},
   "outputs": [],
   "source": [
    "data2.loc[loc, 'C1_NM'] = '건설산업기본법'"
   ]
  },
  {
   "cell_type": "markdown",
   "id": "11f0c993",
   "metadata": {},
   "source": [
    "--------------------------------------------"
   ]
  },
  {
   "cell_type": "code",
   "execution_count": null,
   "id": "3c120691",
   "metadata": {},
   "outputs": [],
   "source": [
    "loc = data2['C1_NM'].str.match('공안')"
   ]
  },
  {
   "cell_type": "code",
   "execution_count": null,
   "id": "7aaa1ff5",
   "metadata": {},
   "outputs": [],
   "source": [
    "data2.loc[loc, 'C1_NM'].unique()"
   ]
  },
  {
   "cell_type": "code",
   "execution_count": null,
   "id": "ae44dcf2",
   "metadata": {},
   "outputs": [],
   "source": [
    "data2.loc[loc, 'C1_NM'] = '공안을 해하는죄'"
   ]
  },
  {
   "cell_type": "markdown",
   "id": "a29e3c22",
   "metadata": {},
   "source": [
    "--------------------------------------------"
   ]
  },
  {
   "cell_type": "code",
   "execution_count": null,
   "id": "5e489d71",
   "metadata": {},
   "outputs": [],
   "source": [
    "loc = data2['C1_NM'].str.match('공중위생')"
   ]
  },
  {
   "cell_type": "code",
   "execution_count": null,
   "id": "1148acd9",
   "metadata": {},
   "outputs": [],
   "source": [
    "data2.loc[loc, 'C1_NM'].unique()"
   ]
  },
  {
   "cell_type": "code",
   "execution_count": null,
   "id": "62faf955",
   "metadata": {},
   "outputs": [],
   "source": [
    "data2.loc[loc, 'C1_NM'] = '공중위생법'"
   ]
  },
  {
   "cell_type": "markdown",
   "id": "d4b67ad4",
   "metadata": {},
   "source": [
    "--------------------------------------------"
   ]
  },
  {
   "cell_type": "code",
   "execution_count": null,
   "id": "00cdbf84",
   "metadata": {},
   "outputs": [],
   "source": [
    "loc = data2['C1_NM'].str.match('과실')"
   ]
  },
  {
   "cell_type": "code",
   "execution_count": null,
   "id": "a619bedd",
   "metadata": {},
   "outputs": [],
   "source": [
    "data2.loc[loc, 'C1_NM'].unique()"
   ]
  },
  {
   "cell_type": "code",
   "execution_count": null,
   "id": "6f360db5",
   "metadata": {},
   "outputs": [],
   "source": [
    "data2.loc[loc, 'C1_NM'] = '과실범죄'"
   ]
  },
  {
   "cell_type": "markdown",
   "id": "3a408e27",
   "metadata": {},
   "source": [
    "--------------------------------------------"
   ]
  },
  {
   "cell_type": "code",
   "execution_count": null,
   "id": "962eed5e",
   "metadata": {},
   "outputs": [],
   "source": [
    "loc = data2['C1_NM'].str.match('내란의')"
   ]
  },
  {
   "cell_type": "code",
   "execution_count": null,
   "id": "16761299",
   "metadata": {},
   "outputs": [],
   "source": [
    "data2.loc[loc, 'C1_NM'].unique()"
   ]
  },
  {
   "cell_type": "code",
   "execution_count": null,
   "id": "673eb1ff",
   "metadata": {},
   "outputs": [],
   "source": [
    "data2.loc[loc, 'C1_NM'] = '내란의 죄'"
   ]
  },
  {
   "cell_type": "markdown",
   "id": "27f73996",
   "metadata": {},
   "source": [
    "--------------------------------------------"
   ]
  },
  {
   "cell_type": "code",
   "execution_count": null,
   "id": "575341a6",
   "metadata": {},
   "outputs": [],
   "source": [
    "loc = data2['C1_NM'].str.match('대부업')"
   ]
  },
  {
   "cell_type": "code",
   "execution_count": null,
   "id": "0d22a491",
   "metadata": {},
   "outputs": [],
   "source": [
    "data2.loc[loc, 'C1_NM'].unique()"
   ]
  },
  {
   "cell_type": "code",
   "execution_count": null,
   "id": "330a4381",
   "metadata": {},
   "outputs": [],
   "source": [
    "data2.loc[loc, 'C1_NM'] = '대부업등의 등록 및 금융이용자보호에 관한법률'"
   ]
  },
  {
   "cell_type": "markdown",
   "id": "9e6474f0",
   "metadata": {},
   "source": [
    "--------------------------------------------"
   ]
  },
  {
   "cell_type": "code",
   "execution_count": null,
   "id": "8352faa0",
   "metadata": {},
   "outputs": [],
   "source": [
    "loc = data2['C1_NM'].str.match('도로교')"
   ]
  },
  {
   "cell_type": "code",
   "execution_count": null,
   "id": "08f166ca",
   "metadata": {},
   "outputs": [],
   "source": [
    "data2.loc[loc, 'C1_NM'].unique()"
   ]
  },
  {
   "cell_type": "code",
   "execution_count": null,
   "id": "769b7a35",
   "metadata": {},
   "outputs": [],
   "source": [
    "data2.loc[loc, 'C1_NM'] = '도로교통법'"
   ]
  },
  {
   "cell_type": "markdown",
   "id": "ca628b84",
   "metadata": {},
   "source": [
    "--------------------------------------------"
   ]
  },
  {
   "cell_type": "code",
   "execution_count": null,
   "id": "c64ef2cc",
   "metadata": {},
   "outputs": [],
   "source": [
    "loc = data2['C1_NM'].str.match('도박')"
   ]
  },
  {
   "cell_type": "code",
   "execution_count": null,
   "id": "3b0c4bf8",
   "metadata": {},
   "outputs": [],
   "source": [
    "data2.loc[loc, 'C1_NM'].unique()"
   ]
  },
  {
   "cell_type": "code",
   "execution_count": null,
   "id": "3c93281d",
   "metadata": {},
   "outputs": [],
   "source": [
    "data2.loc[loc, 'C1_NM'] = '도박'"
   ]
  },
  {
   "cell_type": "markdown",
   "id": "40987480",
   "metadata": {},
   "source": [
    "--------------------------------------------"
   ]
  },
  {
   "cell_type": "code",
   "execution_count": null,
   "id": "82f628a3",
   "metadata": {},
   "outputs": [],
   "source": [
    "loc = data2['C1_NM'].str.match('도시')"
   ]
  },
  {
   "cell_type": "code",
   "execution_count": null,
   "id": "bb723b4e",
   "metadata": {},
   "outputs": [],
   "source": [
    "data2.loc[loc, 'C1_NM'].unique()"
   ]
  },
  {
   "cell_type": "code",
   "execution_count": null,
   "id": "68ed2cdb",
   "metadata": {},
   "outputs": [],
   "source": [
    "data2.loc[loc, 'C1_NM'] = '도시및주거환경정비법'"
   ]
  },
  {
   "cell_type": "markdown",
   "id": "8f6b0b2c",
   "metadata": {},
   "source": [
    "--------------------------------------------"
   ]
  },
  {
   "cell_type": "code",
   "execution_count": null,
   "id": "62ff66a2",
   "metadata": {},
   "outputs": [],
   "source": [
    "loc = data2['C1_NM'].str.match('도주')"
   ]
  },
  {
   "cell_type": "code",
   "execution_count": null,
   "id": "10a6a547",
   "metadata": {},
   "outputs": [],
   "source": [
    "data2.loc[loc, 'C1_NM'].unique()"
   ]
  },
  {
   "cell_type": "code",
   "execution_count": null,
   "id": "8ac483f7",
   "metadata": {},
   "outputs": [],
   "source": [
    "data2.loc[loc, 'C1_NM'] = '도주와 범인 은닉'"
   ]
  },
  {
   "cell_type": "markdown",
   "id": "6dd29cfc",
   "metadata": {},
   "source": [
    "--------------------------------------------"
   ]
  },
  {
   "cell_type": "code",
   "execution_count": null,
   "id": "663c2809",
   "metadata": {},
   "outputs": [],
   "source": [
    "loc = data2['C1_NM'].str.match('부동산.+법률')"
   ]
  },
  {
   "cell_type": "code",
   "execution_count": null,
   "id": "de0f35f2",
   "metadata": {},
   "outputs": [],
   "source": [
    "data2.loc[loc, 'C1_NM'].unique()"
   ]
  },
  {
   "cell_type": "code",
   "execution_count": null,
   "id": "5dcd61ae",
   "metadata": {},
   "outputs": [],
   "source": [
    "data2.loc[loc, 'C1_NM'] = '부동산 소유권 이전 등기등에 관한 법률'"
   ]
  },
  {
   "cell_type": "markdown",
   "id": "f3369830",
   "metadata": {},
   "source": [
    "--------------------------------------------"
   ]
  },
  {
   "cell_type": "code",
   "execution_count": null,
   "id": "662ab1cf",
   "metadata": {},
   "outputs": [],
   "source": [
    "loc = data2['C1_NM'].str.match('보건')"
   ]
  },
  {
   "cell_type": "code",
   "execution_count": null,
   "id": "38a894b0",
   "metadata": {},
   "outputs": [],
   "source": [
    "data2.loc[loc, 'C1_NM'].unique()"
   ]
  },
  {
   "cell_type": "code",
   "execution_count": null,
   "id": "897fca90",
   "metadata": {},
   "outputs": [],
   "source": [
    "data2.loc[loc, 'C1_NM'] = '보건범죄 특조법'"
   ]
  },
  {
   "cell_type": "markdown",
   "id": "4eaa26e1",
   "metadata": {},
   "source": [
    "--------------------------------------------"
   ]
  },
  {
   "cell_type": "code",
   "execution_count": null,
   "id": "22309ec7",
   "metadata": {},
   "outputs": [],
   "source": [
    "loc = data2['C1_NM'].str.match('손괴')"
   ]
  },
  {
   "cell_type": "code",
   "execution_count": null,
   "id": "658cccea",
   "metadata": {},
   "outputs": [],
   "source": [
    "data2.loc[loc, 'C1_NM'].unique()"
   ]
  },
  {
   "cell_type": "code",
   "execution_count": null,
   "id": "dac21de3",
   "metadata": {},
   "outputs": [],
   "source": [
    "data2.loc[loc, 'C1_NM'] = '손괴'"
   ]
  },
  {
   "cell_type": "markdown",
   "id": "eb7ea854",
   "metadata": {},
   "source": [
    "### Merge Data Values"
   ]
  },
  {
   "cell_type": "code",
   "execution_count": null,
   "id": "83de211e",
   "metadata": {},
   "outputs": [],
   "source": [
    "data3 = data2.groupby(['TBL', 'ITM_NM', 'UNIT_NM', 'C1_NM', 'PRD_DE'])['DT'].sum().reset_index()"
   ]
  },
  {
   "cell_type": "code",
   "execution_count": null,
   "id": "d77c7819",
   "metadata": {},
   "outputs": [],
   "source": [
    "data3.to_pickle('data3.p')"
   ]
  },
  {
   "cell_type": "markdown",
   "id": "54b01bf6",
   "metadata": {},
   "source": []
  },
  {
   "cell_type": "markdown",
   "id": "2560ba9b",
   "metadata": {},
   "source": []
  },
  {
   "cell_type": "markdown",
   "id": "58ae8a48",
   "metadata": {},
   "source": [
    "# 일관되지 못한 ITM_NM 찾고 제거하기"
   ]
  },
  {
   "cell_type": "code",
   "execution_count": null,
   "id": "a9000b41-a3ee-46bc-9125-b00fc8f367bc",
   "metadata": {},
   "outputs": [],
   "source": [
    "data3['TBL'].unique()"
   ]
  },
  {
   "cell_type": "code",
   "execution_count": null,
   "id": "3847ef0f-87d6-4e7c-819f-2362ecc953e0",
   "metadata": {},
   "outputs": [],
   "source": [
    "data3_pre = data3.loc[data3['PRD_DE'] < 2002]\n",
    "data3_mid = data3.loc[(data3['PRD_DE'] >= 2002) & (data3['PRD_DE'] < 2014)]\n",
    "data3_post = data3.loc[data3['PRD_DE'] >= 2014]"
   ]
  },
  {
   "cell_type": "code",
   "execution_count": null,
   "id": "8d3ee689-c414-4360-9189-d6624443763c",
   "metadata": {},
   "outputs": [],
   "source": [
    "data3_pre.groupby('TBL')['ITM_NM'].apply(lambda x: len(x.unique()))"
   ]
  },
  {
   "cell_type": "code",
   "execution_count": null,
   "id": "5f662773-84b9-42f5-b6a7-33070a87d2e2",
   "metadata": {},
   "outputs": [],
   "source": [
    "data3_mid.groupby('TBL')['ITM_NM'].apply(lambda x: len(x.unique()))"
   ]
  },
  {
   "cell_type": "code",
   "execution_count": null,
   "id": "ac2f31c7-0761-443b-999c-b71631709566",
   "metadata": {},
   "outputs": [],
   "source": [
    "data3_post.groupby('TBL')['ITM_NM'].apply(lambda x: len(x.unique()))"
   ]
  },
  {
   "cell_type": "code",
   "execution_count": null,
   "id": "2d5714ca-b652-4d0e-a807-8c89dfe342ff",
   "metadata": {},
   "outputs": [],
   "source": [
    "data3_pre['ITM_NM'].unique()"
   ]
  },
  {
   "cell_type": "code",
   "execution_count": null,
   "id": "86991da0-8079-4ee1-89f3-cb460d2f44db",
   "metadata": {},
   "outputs": [],
   "source": [
    "data3_mid['ITM_NM'].unique()"
   ]
  },
  {
   "cell_type": "code",
   "execution_count": null,
   "id": "eb6efa53-b189-478e-8d60-1a87b06eb790",
   "metadata": {},
   "outputs": [],
   "source": [
    "data3_post['ITM_NM'].unique()"
   ]
  },
  {
   "cell_type": "markdown",
   "id": "5df0efde",
   "metadata": {},
   "source": [
    "> 2014년 이후 부터는 `미상검거인원`, `법인` 항목이 추가된다 -> 필요 없으므로 제거"
   ]
  },
  {
   "cell_type": "code",
   "execution_count": null,
   "id": "5bac2eb8",
   "metadata": {},
   "outputs": [],
   "source": [
    "data4 = data3[~data3['ITM_NM'].isin(['미상검거인원', '법인'])].copy()"
   ]
  },
  {
   "cell_type": "code",
   "execution_count": null,
   "id": "f41fe51c",
   "metadata": {},
   "outputs": [],
   "source": [
    "# data4.to_csv('건수_범죄명통일.csv', index=False)\n",
    "# data4.to_excel('건수_범죄명통일_utf.xlsx', index=False)"
   ]
  },
  {
   "cell_type": "code",
   "execution_count": null,
   "id": "c51295ca",
   "metadata": {},
   "outputs": [],
   "source": [
    "data4.to_pickle('data4.p')"
   ]
  },
  {
   "cell_type": "markdown",
   "id": "a6e13f13-86a7-4a9a-ab45-556529fff972",
   "metadata": {},
   "source": [
    "# 인구 추가"
   ]
  },
  {
   "cell_type": "code",
   "execution_count": null,
   "id": "6e4a8e78-55e4-49c7-80f3-ecc1d1185b39",
   "metadata": {},
   "outputs": [],
   "source": [
    "rgn_map = pd.read_csv('item_rgn_map.csv', index_col='item')['rgn']\n",
    "tbl_rgn_map = {x:rgn_map[x[:-5]] for x in data4['TBL'].unique()}"
   ]
  },
  {
   "cell_type": "code",
   "execution_count": null,
   "id": "16fc9748-75b7-4fd0-b897-ffb53c3ad029",
   "metadata": {},
   "outputs": [],
   "source": [
    "data5 = data4.copy()\n",
    "data5['RGN'] = data5['TBL'].map(tbl_rgn_map)"
   ]
  },
  {
   "cell_type": "code",
   "execution_count": null,
   "id": "dd469696-b2e5-4cdf-89c6-cd23bbf9d9c6",
   "metadata": {},
   "outputs": [],
   "source": [
    "data5"
   ]
  },
  {
   "cell_type": "code",
   "execution_count": null,
   "id": "16d2d263-4b19-49af-b919-e7eca46f1b81",
   "metadata": {},
   "outputs": [],
   "source": [
    "data5 = data5.groupby(['RGN', 'ITM_NM', 'UNIT_NM', 'C1_NM', 'PRD_DE'])['DT'].sum().reset_index()"
   ]
  },
  {
   "cell_type": "code",
   "execution_count": null,
   "id": "c8fb82d4-9694-4325-a2e5-1c8fc8685a1d",
   "metadata": {},
   "outputs": [],
   "source": []
  },
  {
   "cell_type": "code",
   "execution_count": null,
   "id": "6aa955fc-f373-49da-9e5f-782238dd0033",
   "metadata": {},
   "outputs": [],
   "source": []
  },
  {
   "cell_type": "code",
   "execution_count": null,
   "id": "8a9e9d05-1b90-4f21-ae5e-a546232d37ad",
   "metadata": {},
   "outputs": [],
   "source": [
    "pop = pd.read_csv('pop.csv', index_col=['Year', 'Type'], header=0)"
   ]
  },
  {
   "cell_type": "code",
   "execution_count": null,
   "id": "510f6f2d-0f36-46df-a507-c9d3d9e77b1b",
   "metadata": {},
   "outputs": [],
   "source": [
    "pop_tot = pop.rename_axis(['PRD_DE', 'Type'], axis=0) \\\n",
    "    .swaplevel().sort_index().loc['인구'].unstack()\n",
    "pop_m = pop.rename_axis(['PRD_DE', 'Type'], axis=0) \\\n",
    "    .swaplevel().sort_index().loc['남'].unstack()\n",
    "pop_f = pop.rename_axis(['PRD_DE', 'Type'], axis=0) \\\n",
    "    .swaplevel().sort_index().loc['여'].unstack()\n",
    "pop_wide = pd.concat([pop_m.rename('남'), pop_f.rename('여'), pop_tot.rename('인구')], axis=1) \\\n",
    "    .rename_axis(['RGN', 'PRD_DE'])\n",
    "\n",
    "data5 = data5.merge(pop_wide.reset_index(), on=['PRD_DE', 'RGN'], how='left')"
   ]
  },
  {
   "cell_type": "code",
   "execution_count": null,
   "id": "67d830bb-fe15-4919-a70b-7d61ecc7a421",
   "metadata": {},
   "outputs": [],
   "source": [
    "prd_de_rm = data5.loc[data5['인구'].isnull(), 'PRD_DE'].unique()\n",
    "prd_de_rm.sort()\n",
    "\n",
    "data5 = data5.loc[data5['인구'].notnull()]"
   ]
  },
  {
   "cell_type": "code",
   "execution_count": null,
   "id": "b76f51ae-d67d-468f-8956-0f995bc4f7bc",
   "metadata": {},
   "outputs": [],
   "source": [
    "data5['ITM_NM'].unique()"
   ]
  },
  {
   "cell_type": "code",
   "execution_count": null,
   "id": "3ba35ee8-bc5f-41be-a2d3-c5ffb472dee8",
   "metadata": {},
   "outputs": [],
   "source": [
    "data5_arrest = data5.loc[data5['ITM_NM'].eq('검거건수')]\n",
    "# data5_arrest.groupby(['C1_NM', 'RGN'])['DT'].apply(lambda x: 1 if x.mean() > 0 else 0).unstack().to_clipboard()\n",
    "# data5_arrest.groupby(['C1_NM', 'RGN'])['DT'].apply(lambda x: x.mean()).unstack().to_clipboard()\n",
    "data5_arrest_2014 = data5_arrest.loc[data5_arrest['PRD_DE'] >= 2014]"
   ]
  },
  {
   "cell_type": "code",
   "execution_count": null,
   "id": "a92d14f7-6b11-4f5b-bb13-42fe9c8063ea",
   "metadata": {},
   "outputs": [],
   "source": [
    "data6 = data5_arrest_2014.loc[~data5_arrest_2014['C1_NM'].isin(['특별법범', '형법범'])]"
   ]
  },
  {
   "cell_type": "code",
   "execution_count": null,
   "id": "60faa923-c2bb-42ff-a0a6-1ad446d38926",
   "metadata": {},
   "outputs": [],
   "source": [
    "data6.to_pickle('data6.p')"
   ]
  },
  {
   "cell_type": "code",
   "execution_count": null,
   "id": "7ddbdac2-1b5f-4da9-be23-86785acbd89a",
   "metadata": {},
   "outputs": [],
   "source": [
    "data6.to_csv('data6.csv', index=False)"
   ]
  },
  {
   "cell_type": "code",
   "execution_count": null,
   "id": "51e3a891-7220-4def-80b3-bc86880e7b41",
   "metadata": {},
   "outputs": [],
   "source": []
  }
 ],
 "metadata": {
  "kernelspec": {
   "display_name": "Python 3 (ipykernel)",
   "language": "python",
   "name": "python3"
  },
  "language_info": {
   "codemirror_mode": {
    "name": "ipython",
    "version": 3
   },
   "file_extension": ".py",
   "mimetype": "text/x-python",
   "name": "python",
   "nbconvert_exporter": "python",
   "pygments_lexer": "ipython3",
   "version": "3.11.5"
  }
 },
 "nbformat": 4,
 "nbformat_minor": 5
}
